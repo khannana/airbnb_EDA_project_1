{
  "nbformat": 4,
  "nbformat_minor": 0,
  "metadata": {
    "colab": {
      "name": "functions_practice:",
      "provenance": [],
      "authorship_tag": "ABX9TyOnB2ERTaGY0YyHer9Tq6Yh",
      "include_colab_link": true
    },
    "kernelspec": {
      "name": "python3",
      "display_name": "Python 3"
    },
    "language_info": {
      "name": "python"
    }
  },
  "cells": [
    {
      "cell_type": "markdown",
      "metadata": {
        "id": "view-in-github",
        "colab_type": "text"
      },
      "source": [
        "<a href=\"https://colab.research.google.com/github/khannana/airbnb_EDA_project_1/blob/main/functions_practice_.ipynb\" target=\"_parent\"><img src=\"https://colab.research.google.com/assets/colab-badge.svg\" alt=\"Open In Colab\"/></a>"
      ]
    },
    {
      "cell_type": "code",
      "execution_count": 1,
      "metadata": {
        "colab": {
          "base_uri": "https://localhost:8080/"
        },
        "id": "MFlPH-8Ha4do",
        "outputId": "f50e1d42-7531-4775-d121-7f0d01bfc989"
      },
      "outputs": [
        {
          "output_type": "stream",
          "name": "stdout",
          "text": [
            "3\n"
          ]
        }
      ],
      "source": [
        "def maximum(x, y):\n",
        "    if x > y:\n",
        "        return x\n",
        "    elif x == y:\n",
        "        return 'The numbers are equal'\n",
        "    else:\n",
        "        return y\n",
        " \n",
        "print(maximum(2, 3))"
      ]
    },
    {
      "cell_type": "code",
      "source": [
        "def a(b):\n",
        "    b = b + [5]\n",
        "    return b\n",
        " \n",
        "c = [1, 2, 3, 4]\n",
        "a(c)\n",
        "print(len(a(c)))"
      ],
      "metadata": {
        "colab": {
          "base_uri": "https://localhost:8080/"
        },
        "id": "yoi5H64EeHd9",
        "outputId": "bdb75b69-53f7-47b0-b1c6-ffd5bb5ab2c1"
      },
      "execution_count": 2,
      "outputs": [
        {
          "output_type": "stream",
          "name": "stdout",
          "text": [
            "5\n"
          ]
        }
      ]
    },
    {
      "cell_type": "code",
      "source": [
        "i=0\n",
        "def change(i):\n",
        "   i=i+1\n",
        "   return i\n",
        "change(1)\n",
        "print(i)"
      ],
      "metadata": {
        "colab": {
          "base_uri": "https://localhost:8080/"
        },
        "id": "l7epX1dnfEVC",
        "outputId": "2aa84ff3-e449-40c8-b1c6-79fe7e1762ab"
      },
      "execution_count": 3,
      "outputs": [
        {
          "output_type": "stream",
          "name": "stdout",
          "text": [
            "0\n"
          ]
        }
      ]
    },
    {
      "cell_type": "code",
      "source": [
        "def change(i = 1, j = 2):\n",
        "    i = i + j\n",
        "    j = j + 1\n",
        "    print(i, j)\n",
        "change(j = 1, i = 2)"
      ],
      "metadata": {
        "colab": {
          "base_uri": "https://localhost:8080/"
        },
        "id": "qnLSquW2fWjG",
        "outputId": "c5683d04-c8fd-48d4-8c00-080ad9cb0a6e"
      },
      "execution_count": 4,
      "outputs": [
        {
          "output_type": "stream",
          "name": "stdout",
          "text": [
            "3 2\n"
          ]
        }
      ]
    },
    {
      "cell_type": "code",
      "source": [
        ""
      ],
      "metadata": {
        "id": "CLCawrdFfjR2"
      },
      "execution_count": null,
      "outputs": []
    }
  ]
}